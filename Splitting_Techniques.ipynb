{
 "cells": [
  {
   "cell_type": "markdown",
   "id": "2184fd01-3929-4956-bc6e-011a3fe2bc79",
   "metadata": {},
   "source": [
    "# Splitting techniques"
   ]
  },
  {
   "cell_type": "markdown",
   "id": "cef2b454-d1ca-49bc-b6f5-90cca7db0587",
   "metadata": {},
   "source": [
    "## Packages need to install"
   ]
  },
  {
   "cell_type": "code",
   "execution_count": null,
   "id": "d156f263-1d37-4e82-b7e0-5012367cc79c",
   "metadata": {},
   "outputs": [],
   "source": [
    "#!pip install langchain_community\n",
    "#!pip install pypdf\n",
    "#!pip install bs4\n",
    "#!pip install langchain-text-splitters"
   ]
  },
  {
   "cell_type": "markdown",
   "id": "bf32e819-4362-43ee-a08d-29162f70b24c",
   "metadata": {},
   "source": [
    "## For text file"
   ]
  },
  {
   "cell_type": "code",
   "execution_count": 2,
   "id": "3a61429a-f954-44f3-bc77-0efcfc90a893",
   "metadata": {},
   "outputs": [
    {
     "data": {
      "text/plain": [
       "<langchain_community.document_loaders.text.TextLoader at 0x1f2ee43ec00>"
      ]
     },
     "execution_count": 2,
     "metadata": {},
     "output_type": "execute_result"
    }
   ],
   "source": [
    "from langchain_community.document_loaders import TextLoader\n",
    "\n",
    "loader = TextLoader('sample.txt')\n",
    "loader"
   ]
  },
  {
   "cell_type": "code",
   "execution_count": 3,
   "id": "2b1bd32e-9e27-4b1f-89cf-5357f33a7dc3",
   "metadata": {},
   "outputs": [
    {
     "data": {
      "text/plain": [
       "[Document(metadata={'source': 'sample.txt'}, page_content='Standard Chartered PLC is a British multinational bank with operations in wealth management, corporate and investment banking, and treasury services. Despite being headquartered in the United Kingdom, it does not conduct retail banking in the UK, and around 90% of its profits come from Asia, Africa, and the Middle East.\\n\\nStandard Chartered has a primary listing on the London Stock Exchange and is a constituent of the FTSE 100 Index. It has secondary listings on the Hong Kong Stock Exchange, the National Stock Exchange of India, and OTC Markets Group Pink. Its largest shareholder is the Government of Singapore-owned Temasek Holdings.[4][5][6] The Financial Stability Board considers it a systemically important bank.\\n\\nJosÃ© ViÃ±als is the group chairman of Standard Chartered.[7] Bill Winters is the current group chief executive.[8] Diego De Giorgi is the current group chief financial officer.[9]\\n\\nThe name Standard Chartered comes from the names of the two banks that merged in 1969 to create it: The Chartered Bank of India, Australia and China, and Standard Bank of British South Africa.[10]\\n\\nThe Chartered Bank began when Queen Victoria granted a royal charter to Scotsman James Wilson in 1853. Chartered opened its first branches in Bombay, Calcutta, and Shanghai in 1858; branches in Hong Kong and Singapore followed in 1859. The bank started issuing banknotes denominated in Hong Kong dollars in 1862.[10]')]"
      ]
     },
     "execution_count": 3,
     "metadata": {},
     "output_type": "execute_result"
    }
   ],
   "source": [
    "text_documents = loader.load()\n",
    "text_documents"
   ]
  },
  {
   "cell_type": "markdown",
   "id": "7d4e2f13-fec7-4530-9278-b35a7a356512",
   "metadata": {},
   "source": [
    "### Using RecursiveCharacterTextSplitter"
   ]
  },
  {
   "cell_type": "code",
   "execution_count": 6,
   "id": "0c34f47f-15bc-42d8-ac25-6b97695a6f30",
   "metadata": {},
   "outputs": [
    {
     "data": {
      "text/plain": [
       "[Document(metadata={'source': 'sample.txt'}, page_content='Standard Chartered PLC is a British multinational bank with operations in wealth management, corporate and investment banking, and treasury services. Despite being headquartered in the United Kingdom,'),\n",
       " Document(metadata={'source': 'sample.txt'}, page_content='Kingdom, it does not conduct retail banking in the UK, and around 90% of its profits come from Asia, Africa, and the Middle East.'),\n",
       " Document(metadata={'source': 'sample.txt'}, page_content='Standard Chartered has a primary listing on the London Stock Exchange and is a constituent of the FTSE 100 Index. It has secondary listings on the Hong Kong Stock Exchange, the National Stock'),\n",
       " Document(metadata={'source': 'sample.txt'}, page_content='Stock Exchange of India, and OTC Markets Group Pink. Its largest shareholder is the Government of Singapore-owned Temasek Holdings.[4][5][6] The Financial Stability Board considers it a systemically'),\n",
       " Document(metadata={'source': 'sample.txt'}, page_content='important bank.'),\n",
       " Document(metadata={'source': 'sample.txt'}, page_content='JosÃ© ViÃ±als is the group chairman of Standard Chartered.[7] Bill Winters is the current group chief executive.[8] Diego De Giorgi is the current group chief financial officer.[9]'),\n",
       " Document(metadata={'source': 'sample.txt'}, page_content='The name Standard Chartered comes from the names of the two banks that merged in 1969 to create it: The Chartered Bank of India, Australia and China, and Standard Bank of British South Africa.[10]'),\n",
       " Document(metadata={'source': 'sample.txt'}, page_content='The Chartered Bank began when Queen Victoria granted a royal charter to Scotsman James Wilson in 1853. Chartered opened its first branches in Bombay, Calcutta, and Shanghai in 1858; branches in Hong'),\n",
       " Document(metadata={'source': 'sample.txt'}, page_content='in Hong Kong and Singapore followed in 1859. The bank started issuing banknotes denominated in Hong Kong dollars in 1862.[10]')]"
      ]
     },
     "execution_count": 6,
     "metadata": {},
     "output_type": "execute_result"
    }
   ],
   "source": [
    "from langchain_text_splitters import RecursiveCharacterTextSplitter\n",
    "\n",
    "text_splitter = RecursiveCharacterTextSplitter(chunk_size = 200, chunk_overlap = 10)\n",
    "text_splitter.split_documents(text_documents)"
   ]
  },
  {
   "cell_type": "code",
   "execution_count": null,
   "id": "f5e597b6-0f4a-4548-b8a9-70aa7d588ef4",
   "metadata": {},
   "outputs": [],
   "source": []
  },
  {
   "cell_type": "markdown",
   "id": "e4becffd-01f6-4e66-89ba-b14276e85540",
   "metadata": {},
   "source": [
    "## Using CharacterTextSplitter"
   ]
  },
  {
   "cell_type": "code",
   "execution_count": 10,
   "id": "2133a0a5-beb4-4976-a302-83a5a6485ea7",
   "metadata": {},
   "outputs": [
    {
     "name": "stderr",
     "output_type": "stream",
     "text": [
      "Created a chunk of size 321, which is longer than the specified 200\n",
      "Created a chunk of size 400, which is longer than the specified 200\n"
     ]
    },
    {
     "data": {
      "text/plain": [
       "[Document(metadata={'source': 'sample.txt'}, page_content='Standard Chartered PLC is a British multinational bank with operations in wealth management, corporate and investment banking, and treasury services. Despite being headquartered in the United Kingdom, it does not conduct retail banking in the UK, and around 90% of its profits come from Asia, Africa, and the Middle East.'),\n",
       " Document(metadata={'source': 'sample.txt'}, page_content='Standard Chartered has a primary listing on the London Stock Exchange and is a constituent of the FTSE 100 Index. It has secondary listings on the Hong Kong Stock Exchange, the National Stock Exchange of India, and OTC Markets Group Pink. Its largest shareholder is the Government of Singapore-owned Temasek Holdings.[4][5][6] The Financial Stability Board considers it a systemically important bank.'),\n",
       " Document(metadata={'source': 'sample.txt'}, page_content='JosÃ© ViÃ±als is the group chairman of Standard Chartered.[7] Bill Winters is the current group chief executive.[8] Diego De Giorgi is the current group chief financial officer.[9]'),\n",
       " Document(metadata={'source': 'sample.txt'}, page_content='The name Standard Chartered comes from the names of the two banks that merged in 1969 to create it: The Chartered Bank of India, Australia and China, and Standard Bank of British South Africa.[10]'),\n",
       " Document(metadata={'source': 'sample.txt'}, page_content='The Chartered Bank began when Queen Victoria granted a royal charter to Scotsman James Wilson in 1853. Chartered opened its first branches in Bombay, Calcutta, and Shanghai in 1858; branches in Hong Kong and Singapore followed in 1859. The bank started issuing banknotes denominated in Hong Kong dollars in 1862.[10]')]"
      ]
     },
     "execution_count": 10,
     "metadata": {},
     "output_type": "execute_result"
    }
   ],
   "source": [
    "from langchain_text_splitters import CharacterTextSplitter\n",
    "\n",
    "text_splitter = CharacterTextSplitter(separator=\"\\n\\n\", chunk_size = 200, chunk_overlap = 10)\n",
    "text_splitter.split_documents(text_documents)"
   ]
  },
  {
   "cell_type": "code",
   "execution_count": null,
   "id": "5dee0cf1-51ee-4e77-b49f-1214fe7a8b4e",
   "metadata": {},
   "outputs": [],
   "source": []
  },
  {
   "cell_type": "code",
   "execution_count": null,
   "id": "2f09f9c6-8a75-4454-8724-67b13fbccf64",
   "metadata": {},
   "outputs": [],
   "source": []
  }
 ],
 "metadata": {
  "kernelspec": {
   "display_name": "Python 3 (ipykernel)",
   "language": "python",
   "name": "python3"
  },
  "language_info": {
   "codemirror_mode": {
    "name": "ipython",
    "version": 3
   },
   "file_extension": ".py",
   "mimetype": "text/x-python",
   "name": "python",
   "nbconvert_exporter": "python",
   "pygments_lexer": "ipython3",
   "version": "3.12.7"
  }
 },
 "nbformat": 4,
 "nbformat_minor": 5
}
